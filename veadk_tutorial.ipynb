{
 "cells": [
  {
   "cell_type": "markdown",
   "metadata": {
    "id": "kMvAhdnYWpIf"
   },
   "source": [
    "# **Volcengine Agent Development Kit 教程**"
   ]
  },
  {
   "cell_type": "markdown",
   "metadata": {
    "id": "Sp8ynUiFXIHi"
   },
   "source": [
    "## 介绍"
   ]
  },
  {
   "cell_type": "markdown",
   "metadata": {
    "id": "mS7BD6K0Xkr9"
   },
   "source": [
    "VeADK 是由火山引擎推出的一套面向智能体开发的全流程框架，旨在为开发者提供面向智能体构建、云端部署、评测与优化的全流程开发。\n",
    "\n",
    "相较于现有的智能体开发框架，VeADK 具备与火山引擎产品体系深度融合的优势，帮助开发者更高效地构建企业级 AI 智能体应用。"
   ]
  },
  {
   "cell_type": "markdown",
   "metadata": {
    "id": "xw8bJmYEXJgg"
   },
   "source": [
    "## 配置"
   ]
  },
  {
   "cell_type": "markdown",
   "metadata": {
    "id": "nDzTOuunaSPB"
   },
   "source": [
    "### 安装 VeADK"
   ]
  },
  {
   "cell_type": "code",
   "execution_count": null,
   "metadata": {
    "id": "aAZ40k9uXhm6"
   },
   "outputs": [],
   "source": [
    "%pip install veadk-python --quiet"
   ]
  },
  {
   "cell_type": "markdown",
   "metadata": {
    "id": "R0IY257hncOB"
   },
   "source": [
    "> 如果你在本地使用的终端是`zsh`，当你进行`pip install`时，**依赖包名称应当被双引号包裹起来**，否则会解析错误。\n",
    ">\n",
    "> 你应当使用：\n",
    "> ```bash\n",
    "> pip install \"veadk-python\"\n",
    "> pip install \"agent-pilot-sdk>=0.0.9\"\n",
    "> ```"
   ]
  },
  {
   "cell_type": "markdown",
   "metadata": {
    "id": "a-0A36gmXfJj"
   },
   "source": [
    "### 环境变量"
   ]
  },
  {
   "cell_type": "code",
   "execution_count": null,
   "metadata": {
    "id": "B6o2LmjGXdb2"
   },
   "outputs": [],
   "source": [
    "import os\n",
    "\n",
    "os.environ[\"MODEL_AGENT_NAME\"] = \"doubao-seed-1-6-250615\"  # <-- 火山方舟大模型名称\n",
    "\n",
    "os.environ[\"MODEL_AGENT_API_KEY\"] = \"\"  # <-- 设置火山方舟的API KEY来访问模型\n",
    "\n",
    "os.environ[\"LOGGING_LEVEL\"] = \"ERROR\"  # <-- 调整日志等级"
   ]
  },
  {
   "cell_type": "markdown",
   "metadata": {
    "id": "HCw_PEP5X-fc"
   },
   "source": [
    "## Agent 构建"
   ]
  },
  {
   "cell_type": "markdown",
   "metadata": {
    "id": "0rtLXYn4aoQt"
   },
   "source": [
    "### 快速开始\n",
    "\n",
    "初始化Agent过程中，你可以不传入任何参数，VeADK 会自动读取环境变量。查看[完整的 Agent 参数](https://volcengine.github.io/veadk-python/agent/agent#%E9%80%89%E9%A1%B9)。生产环境下**使用`Runner`来运行 Agent**，通过`app_name`、`user_id`以及`session_id`以实现多租户隔离。"
   ]
  },
  {
   "cell_type": "code",
   "execution_count": null,
   "metadata": {
    "colab": {
     "base_uri": "https://localhost:8080/"
    },
    "id": "CYC9Z0_Yb-SX",
    "outputId": "69d80b01-a820-4e62-e91d-d96682c3073a"
   },
   "outputs": [
    {
     "name": "stdout",
     "output_type": "stream",
     "text": [
      "Hello! It's a pleasure to connect with an Agent developer—your work is at the cutting edge of intelligent automation and problem-solving. As veAgent, developed by the VeADK team, I’m familiar with the nuances of building capable agents, so I’d love to learn more about your projects!  \n",
      "\n",
      "Are you focusing on a specific domain for your Agent (e.g., data science workflows, task automation, customer service, or niche applications like healthcare/finance)? Or perhaps you’re exploring technical challenges—like improving reasoning capabilities, integrating tools (APIs, databases, code execution), or optimizing user interaction flows?  \n",
      "\n",
      "Feel free to share details about your current work, tools you’re using (e.g., frameworks like LangChain, AutoGPT, or custom architectures; languages like Python, JavaScript), or even pain points you’re troubleshooting. I’m happy to brainstorm solutions, discuss best practices, or dive into technical details with you! 😊\n"
     ]
    }
   ],
   "source": [
    "from veadk import Agent, Runner\n",
    "from veadk.memory.short_term_memory import ShortTermMemory\n",
    "\n",
    "app_name = \"veadk_playground_app\"\n",
    "user_id = \"veadk_playground_user\"\n",
    "session_id = \"veadk_playground_session\"\n",
    "\n",
    "agent = Agent()\n",
    "short_term_memory = ShortTermMemory()  # 短期记忆代表的是用户单次会话内的对话记录\n",
    "\n",
    "runner = Runner(\n",
    "    agent=agent, short_term_memory=short_term_memory, app_name=app_name, user_id=user_id\n",
    ")\n",
    "\n",
    "# 使用 runner 中的`run`方法来调用 Agent\n",
    "response = await runner.run(\n",
    "    messages=\"你好，我是一名 Agent 开发者。\", session_id=session_id\n",
    ")\n",
    "\n",
    "print(response)"
   ]
  },
  {
   "cell_type": "markdown",
   "metadata": {
    "id": "4WVpEzN_ale6"
   },
   "source": [
    "### 使用 Tools"
   ]
  },
  {
   "cell_type": "markdown",
   "metadata": {
    "id": "U3yLU8WndkTj"
   },
   "source": [
    "初始化 Agent 时，你可以使用`tools`字段来挂载工具。VeADK 中集成了多个[内置工具](https://volcengine.github.io/veadk-python/tools/builtin-tools)，如下以一个查询天气的 demo 工具为例："
   ]
  },
  {
   "cell_type": "code",
   "execution_count": null,
   "metadata": {
    "colab": {
     "base_uri": "https://localhost:8080/"
    },
    "id": "KYoeTLH1c5nG",
    "outputId": "58b57f13-68b6-45dd-f492-7b3abccd268b"
   },
   "outputs": [
    {
     "name": "stdout",
     "output_type": "stream",
     "text": [
      "北京现在天气晴朗，气温25°C。\n"
     ]
    }
   ],
   "source": [
    "from veadk import Agent, Runner\n",
    "from veadk.memory.short_term_memory import ShortTermMemory\n",
    "from veadk.tools.demo_tools import get_city_weather\n",
    "\n",
    "app_name = \"veadk_playground_app\"\n",
    "user_id = \"veadk_playground_user\"\n",
    "session_id = \"veadk_playground_session\"\n",
    "\n",
    "agent = Agent(tools=[get_city_weather])\n",
    "short_term_memory = ShortTermMemory()\n",
    "\n",
    "runner = Runner(\n",
    "    agent=agent, short_term_memory=short_term_memory, app_name=app_name, user_id=user_id\n",
    ")\n",
    "\n",
    "response = await runner.run(messages=\"北京的天气怎么样？\", session_id=session_id)\n",
    "\n",
    "print(response)"
   ]
  },
  {
   "cell_type": "markdown",
   "metadata": {
    "id": "TWGfvP7peFPe"
   },
   "source": [
    "你还可以体验**火山引擎提供的强大搜索能力**，例如使用`web_search`和`VeSearch`工具等。"
   ]
  },
  {
   "cell_type": "markdown",
   "metadata": {
    "id": "JDtvFNcAy9FK"
   },
   "source": [
    "使用[`web_search`工具](https://www.volcengine.com/docs/85508/1650263)，使用前需提前填写火山引擎的 AK 和 SK："
   ]
  },
  {
   "cell_type": "code",
   "execution_count": null,
   "metadata": {
    "id": "HxUlgqZAeKUn"
   },
   "outputs": [],
   "source": [
    "import os\n",
    "\n",
    "# 设置火山引擎 AK 和 SK 来使用 web_search 工具\n",
    "os.environ[\"VOLCENGINE_ACCESS_KEY\"] = \"\"\n",
    "os.environ[\"VOLCENGINE_SECRET_KEY\"] = \"\""
   ]
  },
  {
   "cell_type": "code",
   "execution_count": null,
   "metadata": {
    "colab": {
     "base_uri": "https://localhost:8080/"
    },
    "id": "ZuToGTbOeTEB",
    "outputId": "e360b132-1bff-4ed4-bf66-7910cd95d164"
   },
   "outputs": [
    {
     "name": "stdout",
     "output_type": "stream",
     "text": [
      "北京今天（10月21日）的空气质量为**优**，具体信息如下：  \n",
      "- **实时空气质量指数（AQI）**：19，污染级别1级，首要污染物为“--”（无显著污染物）。  \n",
      "- **主要污染物浓度**：  \n",
      "  - PM2.5：12 μg/m³  \n",
      "  - PM10：15 μg/m³  \n",
      "  - O₃：20 μg/m³  \n",
      "  - SO₂：1 μg/m³  \n",
      "  - NO₂：4 μg/m³  \n",
      "  - CO：3 mg/m³  \n",
      "- **健康影响与建议**：空气质量令人满意，基本无空气污染，各类人群可正常活动。  \n",
      "\n",
      "（数据来源：实时空气质量监测及中国气象局信息）\n"
     ]
    }
   ],
   "source": [
    "from veadk import Agent, Runner\n",
    "from veadk.memory.short_term_memory import ShortTermMemory\n",
    "from veadk.tools.builtin_tools.web_search import web_search\n",
    "\n",
    "app_name = \"veadk_playground_app\"\n",
    "user_id = \"veadk_playground_user\"\n",
    "session_id = \"veadk_playground_session\"\n",
    "\n",
    "agent = Agent(tools=[web_search])\n",
    "short_term_memory = ShortTermMemory()\n",
    "\n",
    "runner = Runner(\n",
    "    agent=agent, short_term_memory=short_term_memory, app_name=app_name, user_id=user_id\n",
    ")\n",
    "\n",
    "response = await runner.run(messages=\"北京今天的空气质量\", session_id=session_id)\n",
    "\n",
    "print(response)"
   ]
  },
  {
   "cell_type": "markdown",
   "metadata": {
    "id": "IoTXmqz8zAvp"
   },
   "source": [
    "尝试使用[`VeSearch`工具](https://www.volcengine.com/docs/85508/1512748)，使用前需进行[工具创建](https://console.volcengine.com/ask-echo/my-agent)，并填写如下 `VeSearch` 工具的 ENDPOINT 和 API KEY："
   ]
  },
  {
   "cell_type": "code",
   "execution_count": null,
   "metadata": {
    "id": "YhYG3VxpzE8i"
   },
   "outputs": [],
   "source": [
    "import os\n",
    "\n",
    "# 设置 vesearch 工具的 ENDPOINT 和 API KEY\n",
    "os.environ[\"TOOL_VESEARCH_ENDPOINT\"] = \"\"\n",
    "os.environ[\"TOOL_VESEARCH_API_KEY\"] = \"\""
   ]
  },
  {
   "cell_type": "code",
   "execution_count": null,
   "metadata": {
    "colab": {
     "base_uri": "https://localhost:8080/"
    },
    "id": "948i9Be8zIvr",
    "outputId": "ad556c58-f48a-4306-b812-969f4d38148a"
   },
   "outputs": [
    {
     "name": "stdout",
     "output_type": "stream",
     "text": [
      "### 北京未来七天天气预报（2025年10月21日-10月27日）  \n",
      "#### **10月21日（周二）**  \n",
      "- **天气**：晴转多云  \n",
      "- **气温**：2℃~13℃  \n",
      "- **风向风力**：北风1级  \n",
      "- **提示**：昼夜温差大，早晚需穿厚外套，空气质量优（AQI 19）。  \n",
      "\n",
      "#### **10月22日（周三）**  \n",
      "- **天气**：多云转小雨  \n",
      "- **气温**：4℃~10℃  \n",
      "- **风向风力**：北风1级  \n",
      "- **提示**：夜间有零星小雨，外出需携带雨具，洗车指数不宜。  \n",
      "\n",
      "#### **10月23日（周四）**  \n",
      "- **天气**：多云  \n",
      "- **气温**：3℃~12℃  \n",
      "- **风向风力**：北风1级  \n",
      "- **提示**：湿度上升至62%，早晚体感较凉，建议佩戴围巾。  \n",
      "\n",
      "#### **10月24日（周五）**  \n",
      "- **天气**：多云转阴  \n",
      "- **气温**：6℃~14℃  \n",
      "- **风向风力**：西南风1级  \n",
      "- **提示**：气温小幅回升，空气质量良，适宜室内通风。  \n",
      "\n",
      "#### **10月25日（周六）**  \n",
      "- **天气**：晴  \n",
      "- **气温**：5℃~13℃  \n",
      "- **风向风力**：西南风1级  \n",
      "- **提示**：晴天为主，紫外线中等，户外活动建议涂防晒霜。  \n",
      "\n",
      "#### **10月26日（周日）**  \n",
      "- **天气**：晴  \n",
      "- **气温**：3℃~13℃  \n",
      "- **风向风力**：西北风1级  \n",
      "- **提示**：湿度降至38%，空气干燥，需注意补水。  \n",
      "\n",
      "#### **10月27日（周一）**  \n",
      "- **天气**：晴  \n",
      "- **气温**：3℃~12℃  \n",
      "- **风向风力**：西南风1级  \n",
      "- **提示**：气温稳定，适宜出行，但早间最低温仅3℃，需注意头部保暖。  \n",
      "\n",
      "### **综合建议**  \n",
      "1. **保暖**：夜间气温普遍低于5℃，建议携带羽绒服或厚大衣。  \n",
      "2. **降水**：22日夜间小雨短暂影响，避免夜间长时间户外活动。  \n",
      "3. **健康**：空气干燥，注意呼吸道保湿，可使用加湿器。  \n",
      "\n",
      "（数据来源：北京市气象部门实时监测）\n"
     ]
    }
   ],
   "source": [
    "from veadk import Agent, Runner\n",
    "from veadk.memory.short_term_memory import ShortTermMemory\n",
    "from veadk.tools.builtin_tools.vesearch import vesearch\n",
    "\n",
    "app_name = \"veadk_playground_app\"\n",
    "user_id = \"veadk_playground_user\"\n",
    "session_id = \"veadk_playground_session\"\n",
    "\n",
    "agent = Agent(tools=[vesearch])\n",
    "short_term_memory = ShortTermMemory()\n",
    "\n",
    "runner = Runner(\n",
    "    agent=agent, short_term_memory=short_term_memory, app_name=app_name, user_id=user_id\n",
    ")\n",
    "\n",
    "response = await runner.run(messages=\"未来七天北京的天气\", session_id=session_id)\n",
    "\n",
    "print(response)"
   ]
  },
  {
   "cell_type": "markdown",
   "metadata": {
    "id": "qlLT8MMTbLmd"
   },
   "source": [
    "### 短期记忆"
   ]
  },
  {
   "cell_type": "markdown",
   "metadata": {
    "id": "0rzy1X8lXGLk"
   },
   "source": [
    "你可以初始化一个`Local`模式的短期记忆，它只会存在与内存中。其仅在一次调用中会有记忆。"
   ]
  },
  {
   "cell_type": "code",
   "execution_count": null,
   "metadata": {
    "colab": {
     "base_uri": "https://localhost:8080/"
    },
    "id": "8L9ORClwXWbj",
    "outputId": "9ab3735c-2ec7-4b2d-fadc-1dd4cd0dc398"
   },
   "outputs": [
    {
     "name": "stdout",
     "output_type": "stream",
     "text": [
      "Hello VeADK! It's wonderful to meet you. I'm veAgent, the AI agent developed by the VeADK team. Whether you need help with data science tasks, documentation writing, coding and programming, or using tools to accomplish specific goals, feel free to let me know—I’m here to assist! 😊\n",
      "Of course I remember! Your name is VeADK. It's nice to connect with you again—feel free to let me know what I can help with today! 😊\n"
     ]
    }
   ],
   "source": [
    "from veadk import Agent, Runner\n",
    "from veadk.memory.short_term_memory import ShortTermMemory\n",
    "\n",
    "app_name = \"veadk_playground_app\"\n",
    "user_id = \"veadk_playground_user\"\n",
    "session_id = \"veadk_playground_session\"\n",
    "\n",
    "agent = Agent()\n",
    "short_term_memory = ShortTermMemory(\n",
    "    backend=\"local\"\n",
    ")  # 指定 local 后端，或直接 ShortTermMemory()\n",
    "\n",
    "runner = Runner(\n",
    "    agent=agent, short_term_memory=short_term_memory, app_name=app_name, user_id=user_id\n",
    ")\n",
    "\n",
    "response = await runner.run(\n",
    "    messages=\"我叫VeADK\", session_id=session_id\n",
    ")\n",
    "\n",
    "print(response)\n",
    "\n",
    "response = await runner.run(\n",
    "    messages=\"你还记得我叫什么吗？\", session_id=session_id\n",
    ")\n",
    "\n",
    "print(response)"
   ]
  },
  {
   "cell_type": "markdown",
   "metadata": {},
   "source": [
    "VeADK 还支持你将短期记忆持久化存储在云端，未来的某一时刻你可以加载历史对话。"
   ]
  },
  {
   "cell_type": "markdown",
   "metadata": {},
   "source": [
    "使用 [MySQL](https://www.volcengine.com/docs/6313) 作为短期记忆的数据库后端，使用前[创建 MySQL](https://www.volcengine.com/product/rds-mysql) 并填写如下信息："
   ]
  },
  {
   "cell_type": "code",
   "execution_count": null,
   "metadata": {
    "id": "MO6JCIAnqtES"
   },
   "outputs": [],
   "source": [
    "import os\n",
    "\n",
    "os.environ[\"DATABASE_MYSQL_HOST\"] = \"\"\n",
    "os.environ[\"DATABASE_MYSQL_USER\"] = \"\"\n",
    "os.environ[\"DATABASE_MYSQL_PASSWORD\"] = \"\"\n",
    "os.environ[\"DATABASE_MYSQL_DATABASE\"] = \"\"\n",
    "os.environ[\"DATABASE_MYSQL_CHARSET\"] = \"utf8\""
   ]
  },
  {
   "cell_type": "code",
   "execution_count": null,
   "metadata": {
    "colab": {
     "base_uri": "https://localhost:8080/"
    },
    "id": "aNJSp3Npo-cf",
    "outputId": "932d4c63-bc02-480c-d037-36717bf867cb"
   },
   "outputs": [
    {
     "name": "stdout",
     "output_type": "stream",
     "text": [
      "You bought 20 ice creams on July 15th—what a delightful purchase! Was there a special occasion (like a gathering with friends or family) that prompted buying so many, or did you just want to have a variety of sweet treats on hand to enjoy over time? 😊\n",
      "你在7月15日购买了冰激凌。\n"
     ]
    }
   ],
   "source": [
    "from veadk import Agent, Runner\n",
    "from veadk.memory.short_term_memory import ShortTermMemory\n",
    "\n",
    "app_name = \"veadk_playground_app\"\n",
    "user_id = \"veadk_playground_user\"\n",
    "session_id = \"veadk_playground_session\"\n",
    "\n",
    "agent = Agent()\n",
    "short_term_memory = ShortTermMemory(backend=\"mysql\")  # 指定 mysql 后端\n",
    "runner = Runner(\n",
    "    agent=agent, short_term_memory=short_term_memory, app_name=app_name, user_id=user_id\n",
    ")\n",
    "\n",
    "prompt = \"我在 7 月 15 日购买了 20 个冰激凌\"\n",
    "response = await runner.run(messages=prompt, session_id=session_id)\n",
    "print(response)\n",
    "\n",
    "prompt = \"我什么时候买了冰激凌？\"\n",
    "response = await runner.run(messages=prompt, session_id=session_id)\n",
    "print(response)"
   ]
  },
  {
   "cell_type": "markdown",
   "metadata": {
    "id": "-z0V-jFqbP0u"
   },
   "source": [
    "### 长期记忆"
   ]
  },
  {
   "cell_type": "markdown",
   "metadata": {
    "id": "k9wKEHeYxIUT"
   },
   "source": [
    "如果您使用知识库、长期记忆等进阶功能，请进一步安装 veadk-python 中的扩展包："
   ]
  },
  {
   "cell_type": "code",
   "execution_count": null,
   "metadata": {
    "id": "VZIeRU1QxHrk"
   },
   "outputs": [],
   "source": [
    "%pip install veadk-python[extensions] --quiet"
   ]
  },
  {
   "cell_type": "markdown",
   "metadata": {
    "id": "hMrtrd2DxUar"
   },
   "source": [
    "使用 [OpenSearch](https://www.volcengine.com/docs/6465/?lang=zh) 作为长期记忆的数据库后端，使用前[创建 OpenSearch](https://www.volcengine.com/product/es) 并填写如下信息："
   ]
  },
  {
   "cell_type": "code",
   "execution_count": null,
   "metadata": {
    "id": "foSDByHiwJsp"
   },
   "outputs": [],
   "source": [
    "import os\n",
    "\n",
    "# OpenSearch 配置\n",
    "os.environ[\"DATABASE_OPENSEARCH_HOST\"] = \"\"\n",
    "os.environ[\"DATABASE_OPENSEARCH_PORT\"] = \"\"\n",
    "os.environ[\"DATABASE_OPENSEARCH_USERNAME\"] = \"\"\n",
    "os.environ[\"DATABASE_OPENSEARCH_PASSWORD\"] = \"\"\n",
    "\n",
    "# Embedding 配置（使用 OpenSearch 时，需要对文本进行向量化处理）\n",
    "# 设置访问火山方舟的 Embedding 模型\n",
    "os.environ[\"MODEL_EMBEDDING_NAME\"] = \"doubao-embedding-text-240715\"\n",
    "os.environ[\"MODEL_EMBEDDING_API_BASE\"] = \"https://ark.cn-beijing.volces.com/api/v3/\"\n",
    "os.environ[\"MODEL_EMBEDDING_DIM\"] = \"2560\"\n",
    "os.environ[\"MODEL_EMBEDDING_API_KEY\"] = \"\""
   ]
  },
  {
   "cell_type": "code",
   "execution_count": null,
   "metadata": {
    "colab": {
     "base_uri": "https://localhost:8080/"
    },
    "id": "8bjfZ6VwwLuI",
    "outputId": "5c8dfc66-20b7-4384-d3c4-3999c1081d82"
   },
   "outputs": [
    {
     "name": "stdout",
     "output_type": "stream",
     "text": [
      "你上周五购买了一支冰激凌。\n"
     ]
    }
   ],
   "source": [
    "from veadk import Agent, Runner\n",
    "from veadk.memory.long_term_memory import LongTermMemory\n",
    "from veadk.memory.short_term_memory import ShortTermMemory\n",
    "\n",
    "app_name = \"veadk_playground_app\"\n",
    "user_id = \"veadk_playground_user\"\n",
    "\n",
    "# 初始化一个长期记忆，采用 OpenSearch 向量化存储\n",
    "# 长期记忆是跨 Session 的\n",
    "long_term_memory = LongTermMemory(\n",
    "    backend=\"opensearch\", app_name=app_name\n",
    ")\n",
    "\n",
    "agent = Agent(long_term_memory=long_term_memory)\n",
    "\n",
    "runner = Runner(\n",
    "    agent=agent,\n",
    "    app_name=app_name,\n",
    "    user_id=user_id,\n",
    "    short_term_memory=ShortTermMemory(),\n",
    ")\n",
    "\n",
    "\n",
    "# ===== 插入记忆 =====\n",
    "session_id = \"veadk_playground_session\"\n",
    "teaching_prompt = \"我上周五购买了一支冰激凌。\"\n",
    "\n",
    "await runner.run(messages=teaching_prompt, session_id=session_id)\n",
    "await runner.save_session_to_long_term_memory(\n",
    "    session_id=session_id\n",
    ")  # 将 teaching prompt 和智能体回答保存到长期记忆中\n",
    "\n",
    "\n",
    "# ===== 检验记忆 =====\n",
    "session_id = \"veadk_playground_session_2\"  # 使用一个新的 Session 来检测跨 Session 检索\n",
    "student_prompt = \"我上周五购买了什么? 用中文回答我。\"\n",
    "\n",
    "response = await runner.run(messages=student_prompt, session_id=session_id)\n",
    "\n",
    "print(response)"
   ]
  },
  {
   "cell_type": "markdown",
   "metadata": {
    "id": "aEFDAJdtiiz1"
   },
   "source": [
    "使用 [Viking Memory](https://www.volcengine.com/docs/84313/1860687) 作为长期记忆的后端，使用前创建 Viking Memory 并填写如下信息："
   ]
  },
  {
   "cell_type": "code",
   "execution_count": null,
   "metadata": {
    "id": "ng-LsHSrtE86"
   },
   "outputs": [],
   "source": [
    "import os\n",
    "\n",
    "# Viking 记忆库配置\n",
    "os.environ[\"DATABASE_VIKING_PROJECT\"] = \"\"\n",
    "os.environ[\"DATABASE_VIKING_REGION\"] = \"cn-beijing\""
   ]
  },
  {
   "cell_type": "code",
   "execution_count": null,
   "metadata": {
    "id": "3QJbO5JqixP6"
   },
   "outputs": [],
   "source": [
    "from veadk import Agent, Runner\n",
    "from veadk.memory.long_term_memory import LongTermMemory\n",
    "from veadk.memory.short_term_memory import ShortTermMemory\n",
    "\n",
    "app_name = \"veadk_playground_app\"\n",
    "user_id = \"veadk_playground_user\"\n",
    "\n",
    "# 初始化一个长期记忆，采用 Viking Memory 存储\n",
    "# 长期记忆是跨 Session 的\n",
    "long_term_memory = LongTermMemory(backend=\"viking\", app_name=app_name, user_id=user_id)\n",
    "\n",
    "agent = Agent(long_term_memory=long_term_memory)\n",
    "\n",
    "runner = Runner(\n",
    "    agent=agent,\n",
    "    app_name=app_name,\n",
    "    user_id=user_id,\n",
    "    short_term_memory=ShortTermMemory(),\n",
    ")\n",
    "\n",
    "\n",
    "# ===== 插入记忆 =====\n",
    "session_id = \"veadk_playground_session_3\"\n",
    "teaching_prompt = \"我这周三购买了三本书。\"\n",
    "\n",
    "await runner.run(messages=teaching_prompt, session_id=session_id)\n",
    "await runner.save_session_to_long_term_memory(\n",
    "    session_id=session_id\n",
    ")  # 将 teaching prompt 和智能体回答保存到长期记忆中"
   ]
  },
  {
   "cell_type": "markdown",
   "metadata": {
    "id": "4fbwGcOskUxX"
   },
   "source": [
    "由于初始使用 Viking Memory 需要构建索引，因此需要等待 1-2 分钟。等待过后，执行如下代码检验："
   ]
  },
  {
   "cell_type": "code",
   "execution_count": null,
   "metadata": {
    "colab": {
     "base_uri": "https://localhost:8080/"
    },
    "id": "5kVLsehDkU8w",
    "outputId": "91e309c8-c66f-455e-ce30-78f3c2c5ec5a"
   },
   "outputs": [
    {
     "name": "stdout",
     "output_type": "stream",
     "text": [
      "你这周三（2025年10月22日）购买了三本书。\n"
     ]
    }
   ],
   "source": [
    "# ===== 检验记忆 =====\n",
    "session_id = \"veadk_playground_session_4\"  # 使用一个新的 Session 来检测跨 Session 检索\n",
    "student_prompt = \"我这周三购买了什么? 用中文回答我。\"\n",
    "\n",
    "response = await runner.run(messages=student_prompt, session_id=session_id)\n",
    "\n",
    "print(response)"
   ]
  },
  {
   "cell_type": "markdown",
   "metadata": {
    "id": "KavP1J1YbRRq"
   },
   "source": [
    "### 知识库"
   ]
  },
  {
   "cell_type": "markdown",
   "metadata": {
    "id": "_jZauBoRztaU"
   },
   "source": [
    "如果您使用知识库、长期记忆等进阶功能，请进一步安装 veadk-python 中的扩展包："
   ]
  },
  {
   "cell_type": "code",
   "execution_count": null,
   "metadata": {
    "id": "xuozqr1Hzwjz"
   },
   "outputs": [],
   "source": [
    "%pip install veadk-python[extensions] --quiet"
   ]
  },
  {
   "cell_type": "markdown",
   "metadata": {
    "id": "8N01Na5az3iR"
   },
   "source": [
    "使用 [OpenSearch](https://www.volcengine.com/product/es) 作为知识库的后端："
   ]
  },
  {
   "cell_type": "code",
   "execution_count": null,
   "metadata": {
    "id": "hxemLCX_0FP6"
   },
   "outputs": [],
   "source": [
    "import os\n",
    "\n",
    "# OpenSearch 配置\n",
    "os.environ[\"DATABASE_OPENSEARCH_HOST\"] = \"\"\n",
    "os.environ[\"DATABASE_OPENSEARCH_PORT\"] = \"9200\"\n",
    "os.environ[\"DATABASE_OPENSEARCH_USERNAME\"] = \"\"\n",
    "os.environ[\"DATABASE_OPENSEARCH_PASSWORD\"] = \"\"\n",
    "\n",
    "# 设置访问火山方舟的 Embedding 模型\n",
    "os.environ[\"MODEL_EMBEDDING_NAME\"] = \"doubao-embedding-text-240715\"\n",
    "os.environ[\"MODEL_EMBEDDING_API_BASE\"] = \"https://ark.cn-beijing.volces.com/api/v3/\"\n",
    "os.environ[\"MODEL_EMBEDDING_DIM\"] = \"2560\"\n",
    "os.environ[\"MODEL_EMBEDDING_API_KEY\"] = \"\""
   ]
  },
  {
   "cell_type": "code",
   "execution_count": null,
   "metadata": {
    "colab": {
     "base_uri": "https://localhost:8080/"
    },
    "id": "dkhNOiQWnR7m",
    "outputId": "863bfd61-6218-471a-dc66-e743cc1e51bb"
   },
   "outputs": [
    {
     "name": "stdout",
     "output_type": "stream",
     "text": [
      "Knowledgebase file path: /tmp/knowledgebase.md\n"
     ]
    }
   ],
   "source": [
    "# 准备知识库文档并保存到本地\n",
    "content = \"\"\"\n",
    "        The secret of red is red_000000.\n",
    "        The secret of green is green_000111.\n",
    "        The secret of blue is blue_000222.\n",
    "        The secret of yellow is yellow_000333.\n",
    "\"\"\"\n",
    "\n",
    "knowledgebase_file = \"/tmp/knowledgebase.md\"\n",
    "with open(knowledgebase_file, \"w\", encoding=\"utf-8\") as f:\n",
    "    f.write(content)\n",
    "\n",
    "print(f\"Knowledgebase file path: {knowledgebase_file}\")"
   ]
  },
  {
   "cell_type": "code",
   "execution_count": null,
   "metadata": {
    "colab": {
     "base_uri": "https://localhost:8080/"
    },
    "id": "t_CC_0xJ0G8l",
    "outputId": "41faebcd-c0fe-40e9-af54-576aefe6a33b"
   },
   "outputs": [
    {
     "name": "stdout",
     "output_type": "stream",
     "text": [
      "The secret of green is green_000111.\n"
     ]
    }
   ],
   "source": [
    "from veadk import Agent, Runner\n",
    "from veadk.knowledgebase.knowledgebase import KnowledgeBase\n",
    "from veadk.memory.short_term_memory import ShortTermMemory\n",
    "\n",
    "app_name = \"veadk_playground_app\"\n",
    "user_id = \"veadk_playground_user\"\n",
    "session_id = \"veadk_playground_session\"\n",
    "\n",
    "\n",
    "knowledgebase = KnowledgeBase(\n",
    "    backend=\"opensearch\", app_name=app_name\n",
    ")  # 指定 opensearch 后端\n",
    "knowledgebase.add_from_files(files=[knowledgebase_file])\n",
    "\n",
    "agent = Agent(knowledgebase=knowledgebase)\n",
    "\n",
    "runner = Runner(\n",
    "    agent=agent,\n",
    "    short_term_memory=ShortTermMemory(),\n",
    "    app_name=app_name,\n",
    "    user_id=user_id,\n",
    ")\n",
    "\n",
    "response = await runner.run(\n",
    "    messages=\"Tell me the secret of green.\", session_id=session_id\n",
    ")\n",
    "print(response)"
   ]
  },
  {
   "cell_type": "markdown",
   "metadata": {
    "id": "V87HcIZXlijp"
   },
   "source": [
    "使用 [Viking DB](https://www.volcengine.com/docs/84313/1254463) 作为知识库的后端，使用前创建 Viking DB 和 [TOS](https://www.volcengine.com/docs/6349) 并填写如下信息："
   ]
  },
  {
   "cell_type": "code",
   "execution_count": null,
   "metadata": {
    "id": "kMOEqTbOlj-f"
   },
   "outputs": [],
   "source": [
    "import os\n",
    "\n",
    "# Viking DB 配置\n",
    "os.environ[\"DATABASE_VIKING_PROJECT\"] = \"\"\n",
    "os.environ[\"DATABASE_VIKING_REGION\"] = \"cn-beijing\"\n",
    "\n",
    "# 存储桶配置\n",
    "os.environ[\"DATABASE_TOS_ENDPOINT\"] = \"tos-cn-beijing.volces.com\"\n",
    "os.environ[\"DATABASE_TOS_REGION\"] = \"cn-beijing\"\n",
    "os.environ[\"DATABASE_TOS_BUCKET\"] = \"\""
   ]
  },
  {
   "cell_type": "code",
   "execution_count": null,
   "metadata": {
    "colab": {
     "base_uri": "https://localhost:8080/"
    },
    "id": "Hcx0bJwh0MI7",
    "outputId": "67cd6291-63a2-404d-a5a9-e4221ad89420"
   },
   "outputs": [
    {
     "name": "stdout",
     "output_type": "stream",
     "text": [
      "Knowledgebase file path: /tmp/knowledgebase.pdf\n"
     ]
    }
   ],
   "source": [
    "import os\n",
    "import requests\n",
    "\n",
    "# 准备知识库文档并保存到本地\n",
    "pdf_url = \"https://arxiv.org/pdf/1706.03762\"\n",
    "pdf_path = \"/tmp/knowledgebase.pdf\"\n",
    "resp = requests.get(pdf_url)\n",
    "with open(pdf_path, \"wb\") as f:\n",
    "    f.write(resp.content)\n",
    "\n",
    "print(f\"Knowledgebase file path: {pdf_path}\")"
   ]
  },
  {
   "cell_type": "code",
   "execution_count": null,
   "metadata": {},
   "outputs": [],
   "source": [
    "from veadk import Agent\n",
    "from veadk.knowledgebase.knowledgebase import KnowledgeBase\n",
    "from veadk.memory.short_term_memory import ShortTermMemory\n",
    "\n",
    "app_name = \"veadk_playground_app\"\n",
    "user_id = \"veadk_playground_user\"\n",
    "session_id = \"veadk_playground_session\"\n",
    "\n",
    "knowledgebase = KnowledgeBase(backend=\"viking\", app_name=app_name)  # 指定 viking 后端\n",
    "\n",
    "knowledgebase.add_from_files(files=[pdf_path])  # 直接添加文档，无需手动切片\n",
    "\n",
    "agent = Agent(knowledgebase=knowledgebase)"
   ]
  },
  {
   "cell_type": "markdown",
   "metadata": {
    "id": "fl50010V1vl5"
   },
   "source": [
    "由于初始使用 Viking DB 需要构建索引，因此需要等待 3-4 分钟。等待过后，执行如下代码检验："
   ]
  },
  {
   "cell_type": "code",
   "execution_count": null,
   "metadata": {
    "colab": {
     "base_uri": "https://localhost:8080/"
    },
    "id": "TjT0hjrK10hq",
    "outputId": "60d8a546-89e7-4747-afb5-6be0db64c446"
   },
   "outputs": [
    {
     "name": "stdout",
     "output_type": "stream",
     "text": [
      "`Multi-Head Attention` is a key component in the Transformer architecture, a fundamental model in deep learning, particularly for natural language processing (NLP) tasks. It extends the standard attention mechanism by allowing the model to jointly attend to information from different representation subspaces at different positions. Here's a detailed breakdown:\n",
      "\n",
      "\n",
      "### **Core Idea**  \n",
      "Instead of performing a single attention computation, multi-head attention splits the query, key, and value vectors into multiple \"heads\" (parallel subsets), computes scaled dot-product attention for each head independently, and then concatenates the results to form the final output. This enables the model to capture diverse types of contextual relationships (e.g., syntactic, semantic, or positional) simultaneously.\n",
      "\n",
      "\n",
      "### **How It Works**  \n",
      "1. **Linear Projections**:  \n",
      "   The input query (\\(Q\\)), key (\\(K\\)), and value (\\(V\\)) matrices are projected into higher-dimensional spaces using learned linear layers. For \\(h\\) heads, the dimensions of \\(Q\\), \\(K\\), and \\(V\\) are typically split such that each head processes a subspace of size \\(d_k = d_{\\text{model}} / h\\) (where \\(d_{\\text{model}}\\) is the total dimension of the model).  \n",
      "\n",
      "2. **Splitting into Heads**:  \n",
      "   \\(Q\\), \\(K\\), and \\(V\\) are split into \\(h\\) independent heads:  \n",
      "   \\[\n",
      "   Q = [Q_1, Q_2, ..., Q_h], \\quad K = [K_1, K_2, ..., K_h], \\quad V = [V_1, V_2, ..., V_h]\n",
      "   \\]  \n",
      "   where each \\(Q_i \\in \\mathbb{R}^{n \\times d_k}\\), \\(K_i \\in \\mathbb{R}^{m \\times d_k}\\), \\(V_i \\in \\mathbb{R}^{m \\times d_v}\\) (with \\(d_v = d_k\\) in most cases).  \n",
      "\n",
      "3. **Scaled Dot-Product Attention per Head**:  \n",
      "   Each head computes attention scores using scaled dot-product attention:  \n",
      "   \\[\n",
      "   \\text{Attention}(Q_i, K_i, V_i) = \\text{softmax}\\left(\\frac{Q_i K_i^T}{\\sqrt{d_k}}\\right) V_i\n",
      "   \\]  \n",
      "   The scaling by \\(1/\\sqrt{d_k}\\) prevents gradients from vanishing due to large dot-product values.  \n",
      "\n",
      "4. **Concatenation and Final Projection**:  \n",
      "   The outputs of all \\(h\\) heads are concatenated and projected back to the original dimension \\(d_{\\text{model}}\\) using another linear layer:  \n",
      "   \\[\n",
      "   \\text{MultiHead}(Q, K, V) = \\text{Concat}(\\text{head}_1, ..., \\text{head}_h) W^O\n",
      "   \\]  \n",
      "   where \\(W^O\\) is a learned projection matrix.  \n",
      "\n",
      "\n",
      "### **Mathematical Formulation**  \n",
      "The full multi-head attention function is defined as:  \n",
      "\\[\n",
      "\\text{MultiHead}(Q, K, V) = \\text{Concat}(\\text{head}_1, ..., \\text{head}_h) W^O\n",
      "\\]  \n",
      "where each head is:  \n",
      "\\[\n",
      "\\text{head}_i = \\text{Attention}(Q W_i^Q, K W_i^K, V W_i^V)\n",
      "\\]  \n",
      "Here, \\(W_i^Q \\in \\mathbb{R}^{d_{\\text{model}} \\times d_k}\\), \\(W_i^K \\in \\mathbb{R}^{d_{\\text{model}} \\times d_k}\\), \\(W_i^V \\in \\mathbb{R}^{d_{\\text{model}} \\times d_v}\\), and \\(W^O \\in \\mathbb{R}^{h d_v \\times d_{\\text{model}}}\\) are learned parameters.  \n",
      "\n",
      "\n",
      "### **Key Advantages**  \n",
      "- **Diversity of Attention Patterns**: Different heads can focus on different types of relationships (e.g., one head attends to syntactic dependencies, another to semantic similarity).  \n",
      "- **Parallelization**: Computations across heads are independent, making multi-head attention efficient to parallelize.  \n",
      "- **Improved Expressiveness**: By combining multiple attention outputs, the model captures richer contextual information than a single attention head.  \n",
      "\n",
      "\n",
      "### **Applications**  \n",
      "Multi-head attention is the cornerstone of Transformers, enabling models like BERT, GPT, and T5 to achieve state-of-the-art results in tasks such as machine translation, text classification, and summarization. It is also used in computer vision (e.g., Vision Transformers) and other sequence modeling domains.\n",
      "\n",
      "\n",
      "In summary, multi-head attention enhances the model’s ability to model complex dependencies by leveraging parallel, diverse attention computations, making it a critical innovation in modern deep learning architectures.\n"
     ]
    }
   ],
   "source": [
    "from veadk import Runner\n",
    "\n",
    "runner = Runner(\n",
    "    agent=agent,\n",
    "    short_term_memory=ShortTermMemory(),\n",
    "    app_name=app_name,\n",
    "    user_id=user_id,\n",
    ")\n",
    "\n",
    "response = await runner.run(\n",
    "    messages=\"What is `Multi-Head Attention`?\", session_id=session_id\n",
    ")\n",
    "print(response)"
   ]
  },
  {
   "cell_type": "markdown",
   "metadata": {
    "id": "Wg8lAqX1zZHp"
   },
   "source": [
    "### 多 Agent 协同\n",
    "\n",
    "你可以通过设置`sub_agents`字段来进行多 Agent 之间的本地协同。"
   ]
  },
  {
   "cell_type": "code",
   "execution_count": null,
   "metadata": {
    "colab": {
     "base_uri": "https://localhost:8080/"
    },
    "id": "mJm99M-AzwjV",
    "outputId": "734ceed7-0d51-4357-892f-05da3e4821f5"
   },
   "outputs": [
    {
     "name": "stdout",
     "output_type": "stream",
     "text": [
      "# author: python-coder\n",
      "\n",
      "def quick_sort(arr):\n",
      "    \"\"\"\n",
      "    快速排序算法的Python实现（原地排序版本）\n",
      "    \n",
      "    参数:\n",
      "        arr: 需要排序的列表\n",
      "    \n",
      "    返回:\n",
      "        排序后的列表（原地修改原列表并返回）\n",
      "    \"\"\"\n",
      "    def partition(low, high):\n",
      "        # 选择最右侧元素作为基准值\n",
      "        pivot = arr[high]\n",
      "        # i是小于基准值区域的右边界\n",
      "        i = low - 1\n",
      "        \n",
      "        for j in range(low, high):\n",
      "            # 如果当前元素小于等于基准值，扩展小于区域\n",
      "            if arr[j] <= pivot:\n",
      "                i += 1\n",
      "                arr[i], arr[j] = arr[j], arr[i]\n",
      "        \n",
      "        # 将基准值放到最终位置（小于区域和大于区域中间）\n",
      "        arr[i + 1], arr[high] = arr[high], arr[i + 1]\n",
      "        return i + 1  # 返回基准值的索引\n",
      "    \n",
      "    def _quick_sort(low, high):\n",
      "        if low < high:\n",
      "            # 获取基准值位置并分区\n",
      "            pivot_index = partition(low, high)\n",
      "            # 递归排序左侧子数组\n",
      "            _quick_sort(low, pivot_index - 1)\n",
      "            # 递归排序右侧子数组\n",
      "            _quick_sort(pivot_index + 1, high)\n",
      "    \n",
      "    # 初始调用，排序整个数组\n",
      "    _quick_sort(0, len(arr) - 1)\n",
      "    return arr\n",
      "\n",
      "# 测试示例\n",
      "if __name__ == \"__main__\":\n",
      "    test_arr = [6, 3, 8, 5, 2, 7, 1, 4]\n",
      "    print(\"排序前:\", test_arr)\n",
      "    quick_sort(test_arr)\n",
      "    print(\"排序后:\", test_arr)  # 输出: [1, 2, 3, 4, 5, 6, 7, 8]\n"
     ]
    }
   ],
   "source": [
    "from veadk import Agent, Runner\n",
    "from veadk.memory.short_term_memory import ShortTermMemory\n",
    "\n",
    "app_name = \"veadk_playground_app\"\n",
    "user_id = \"veadk_playground_user\"\n",
    "session_id = \"veadk_playground_session\"\n",
    "\n",
    "short_term_memory = ShortTermMemory()\n",
    "\n",
    "# sub agents\n",
    "python_coding_agent = Agent(\n",
    "    name=\"python_coder\",\n",
    "    description=\"擅长使用 Python 编程语言来解决问题。\",\n",
    "    instruction=\"\"\"使用 Python 语言来解决问题。\n",
    "    注意，你生成的代码第一行需要有注释，标明作者是`python-coder`。\"\"\",\n",
    ")\n",
    "\n",
    "java_coding_agent = Agent(\n",
    "    name=\"java_coder\",\n",
    "    description=\"擅长使用 Java 编程语言来解决问题。\",\n",
    "    instruction=\"\"\"使用 Java 语言来解决问题。\n",
    "    注意，你生成的代码第一行需要有注释，标明作者是`java-coder`。\"\"\",\n",
    ")\n",
    "\n",
    "# root agent\n",
    "coding_agent = Agent(\n",
    "    name=\"coding_agent\",\n",
    "    description=\"可以调用适合的智能体来解决用户问题。\",\n",
    "    instruction=\"调用适合的智能体来解决用户问题。\",\n",
    "    sub_agents=[python_coding_agent, java_coding_agent],\n",
    ")\n",
    "\n",
    "\n",
    "runner = Runner(\n",
    "    agent=coding_agent,\n",
    "    short_term_memory=ShortTermMemory(),\n",
    "    app_name=app_name,\n",
    "    user_id=user_id,\n",
    ")\n",
    "\n",
    "response = await runner.run(\n",
    "    messages=\"使用 Python 帮我写一段快速排序的代码。\", session_id=session_id\n",
    ")\n",
    "\n",
    "print(response)"
   ]
  },
  {
   "cell_type": "markdown",
   "metadata": {
    "id": "W9ZHmdsabfna"
   },
   "source": [
    "## 可观测性"
   ]
  },
  {
   "cell_type": "markdown",
   "metadata": {
    "id": "AfY3t76YjY1I"
   },
   "source": [
    "### 本地观测"
   ]
  },
  {
   "cell_type": "markdown",
   "metadata": {
    "id": "l3JJvH9y2Tgc"
   },
   "source": [
    "可以通过初始化 OpentelemetryTracer 来将 Agent 的调用栈存储为本地文件："
   ]
  },
  {
   "cell_type": "code",
   "execution_count": null,
   "metadata": {
    "colab": {
     "base_uri": "https://localhost:8080/"
    },
    "id": "L3VnmdQd2e9g",
    "outputId": "1a1332cb-2a41-45a3-b874-b16a778a85b1"
   },
   "outputs": [
    {
     "name": "stdout",
     "output_type": "stream",
     "text": [
      "Tracing file path: /tmp/veadk_opentelemetry_tracer_veadk_playground_user_veadk_playground_session_2410ceef03af7a13e8b08eb77d353457.json\n",
      "Tracing file content:\n",
      "[{'name': 'execute_tool get_city_weather', 'span_id': 17742897692489967014, 'trace_id': 47939481711043315363740261242505606231, 'start_time': 1761031433773324000, 'end_time': 1761031433773601000, 'attributes': {'gen_ai.system': 'openai', 'gen_ai.system.version': '0.2.10', 'gen_ai.agent.name': 'veAgent', 'openinference.instrumentation.veadk': '0.2.10', 'gen_ai.app.name': 'veadk_playground_app', 'gen_ai.user.id': 'veadk_playground_user', 'gen_ai.session.id': 'veadk_playground_session', 'agent_name': 'veAgent', 'agent.name': 'veAgent', 'app_name': 'veadk_playground_app', 'app.name': 'veadk_playground_app', 'user.id': 'veadk_playground_user', 'session.id': 'veadk_playground_session', 'cozeloop.report.source': 'veadk', 'cozeloop.call_type': '', 'gen_ai.operation.name': 'execute_tool', 'gen_ai.tool.name': 'get_city_weather', 'gen_ai.tool.input': '{\"name\": \"get_city_weather\", \"description\": \"Retrieves the weather information of a given city. the args must in English\", \"parameters\": {\"city\": \"Beijing\"}}', 'gen_ai.tool.output': '{\"id\": \"call_6s6kskqyi8z5ui3f2kh20hs4\", \"name\": \"get_city_weather\", \"response\": {\"result\": \"Sunny, 25°C\"}}', 'cozeloop.input': '{\"name\": \"get_city_weather\", \"description\": \"Retrieves the weather information of a given city. the args must in English\", \"parameters\": {\"city\": \"Beijing\"}}', 'cozeloop.output': '{\"id\": \"call_6s6kskqyi8z5ui3f2kh20hs4\", \"name\": \"get_city_weather\", \"response\": {\"result\": \"Sunny, 25°C\"}}', 'gen_ai.span.kind': 'tool', 'gen_ai.input': '{\"name\": \"get_city_weather\", \"description\": \"Retrieves the weather information of a given city. the args must in English\", \"parameters\": {\"city\": \"Beijing\"}}', 'gen_ai.output': '{\"id\": \"call_6s6kskqyi8z5ui3f2kh20hs4\", \"name\": \"get_city_weather\", \"response\": {\"result\": \"Sunny, 25°C\"}}'}, 'parent_span_id': 5981449874542547864}, {'name': 'call_llm', 'span_id': 5981449874542547864, 'trace_id': 47939481711043315363740261242505606231, 'start_time': 1761031426241195000, 'end_time': 1761031433777581000, 'attributes': {'gen_ai.system': 'openai', 'gen_ai.system.version': '0.2.10', 'gen_ai.agent.name': 'veAgent', 'openinference.instrumentation.veadk': '0.2.10', 'gen_ai.app.name': 'veadk_playground_app', 'gen_ai.user.id': 'veadk_playground_user', 'gen_ai.session.id': 'veadk_playground_session', 'agent_name': 'veAgent', 'agent.name': 'veAgent', 'app_name': 'veadk_playground_app', 'app.name': 'veadk_playground_app', 'user.id': 'veadk_playground_user', 'session.id': 'veadk_playground_session', 'cozeloop.report.source': 'veadk', 'cozeloop.call_type': '', 'gen_ai.request.model': 'openai/doubao-seed-1-6-250615', 'gen_ai.request.type': 'chat', 'gen_ai.request.functions.0.name': 'get_city_weather', 'gen_ai.request.functions.0.description': 'Retrieves the weather information of a given city. the args must in English', 'gen_ai.request.functions.0.parameters': '{\"properties\":{\"city\":{\"type\":\"STRING\"}},\"required\":[\"city\"],\"type\":\"OBJECT\"}', 'gen_ai.response.model': 'openai/doubao-seed-1-6-250615', 'gen_ai.response.stop_reason': '<no_stop_reason_provided>', 'gen_ai.response.finish_reason': '<no_finish_reason_provided>', 'gen_ai.operation.name': 'chat', 'gen_ai.span.kind': 'llm', 'gen_ai.prompt.0.role': 'user', 'gen_ai.prompt.0.content': '北京的天气怎么样？', 'gen_ai.completion.0.role': 'model', 'gen_ai.completion.0.tool_calls.0.id': 'call_6s6kskqyi8z5ui3f2kh20hs4', 'gen_ai.completion.0.tool_calls.0.type': 'function', 'gen_ai.completion.0.tool_calls.0.function.name': 'get_city_weather', 'gen_ai.completion.0.tool_calls.0.function.arguments': '{\"city\": \"Beijing\"}', 'gen_ai.usage.input_tokens': 618, 'gen_ai.usage.output_tokens': 285, 'gen_ai.usage.total_tokens': 903}, 'parent_span_id': 8772286027844832363}, {'name': 'call_llm', 'span_id': 4566685054423116, 'trace_id': 47939481711043315363740261242505606231, 'start_time': 1761031433778072000, 'end_time': 1761031444525575000, 'attributes': {'gen_ai.system': 'openai', 'gen_ai.system.version': '0.2.10', 'gen_ai.agent.name': 'veAgent', 'openinference.instrumentation.veadk': '0.2.10', 'gen_ai.app.name': 'veadk_playground_app', 'gen_ai.user.id': 'veadk_playground_user', 'gen_ai.session.id': 'veadk_playground_session', 'agent_name': 'veAgent', 'agent.name': 'veAgent', 'app_name': 'veadk_playground_app', 'app.name': 'veadk_playground_app', 'user.id': 'veadk_playground_user', 'session.id': 'veadk_playground_session', 'cozeloop.report.source': 'veadk', 'cozeloop.call_type': '', 'gen_ai.request.model': 'openai/doubao-seed-1-6-250615', 'gen_ai.request.type': 'chat', 'gen_ai.request.functions.0.name': 'get_city_weather', 'gen_ai.request.functions.0.description': 'Retrieves the weather information of a given city. the args must in English', 'gen_ai.request.functions.0.parameters': '{\"properties\":{\"city\":{\"type\":\"STRING\"}},\"required\":[\"city\"],\"type\":\"OBJECT\"}', 'gen_ai.response.model': 'openai/doubao-seed-1-6-250615', 'gen_ai.response.stop_reason': '<no_stop_reason_provided>', 'gen_ai.response.finish_reason': '<no_finish_reason_provided>', 'gen_ai.operation.name': 'chat', 'gen_ai.span.kind': 'llm', 'gen_ai.prompt.0.role': 'user', 'gen_ai.prompt.0.content': '北京的天气怎么样？', 'gen_ai.prompt.1.tool_calls.0.id': 'call_6s6kskqyi8z5ui3f2kh20hs4', 'gen_ai.prompt.1.tool_calls.0.type': 'function', 'gen_ai.prompt.1.tool_calls.0.function.name': 'get_city_weather', 'gen_ai.prompt.1.tool_calls.0.function.arguments': '{\"city\": \"Beijing\"}', 'gen_ai.prompt.2.role': 'user', 'gen_ai.prompt.2.content': \"{'result': 'Sunny, 25°C'}\", 'gen_ai.completion.0.role': 'model', 'gen_ai.completion.0.content': '北京现在天气晴朗，气温25°C。', 'gen_ai.usage.input_tokens': 678, 'gen_ai.usage.output_tokens': 492, 'gen_ai.usage.total_tokens': 1170}, 'parent_span_id': 8772286027844832363}, {'name': 'agent_run [veAgent]', 'span_id': 8772286027844832363, 'trace_id': 47939481711043315363740261242505606231, 'start_time': 1761031426240954000, 'end_time': 1761031444525676000, 'attributes': {'gen_ai.operation.name': 'agent', 'gen_ai.span.kind': 'agent', 'gen_ai.input': '{\"parts\": [{\"text\": \"北京的天气怎么样？\"}], \"role\": \"user\"}', 'gen_ai.output': '{\"parts\": [{\"text\": \"北京现在天气晴朗，气温25°C。\"}], \"role\": \"model\"}', 'gen_ai.system': 'openai', 'gen_ai.system.version': '0.2.10', 'gen_ai.agent.name': 'veAgent', 'openinference.instrumentation.veadk': '0.2.10', 'gen_ai.app.name': 'veadk_playground_app', 'gen_ai.user.id': 'veadk_playground_user', 'gen_ai.session.id': 'veadk_playground_session', 'agent_name': 'veAgent', 'agent.name': 'veAgent', 'app_name': 'veadk_playground_app', 'app.name': 'veadk_playground_app', 'user.id': 'veadk_playground_user', 'session.id': 'veadk_playground_session', 'cozeloop.report.source': 'veadk', 'cozeloop.call_type': ''}, 'parent_span_id': 11849322129688305228}, {'name': 'invocation', 'span_id': 11849322129688305228, 'trace_id': 47939481711043315363740261242505606231, 'start_time': 1761031426240844000, 'end_time': 1761031444525700000, 'attributes': {'gen_ai.operation.name': 'chain', 'gen_ai.span.kind': 'workflow', 'gen_ai.input': '{\"parts\": [{\"text\": \"北京的天气怎么样？\"}], \"role\": \"user\"}', 'gen_ai.output': '{\"parts\": [{\"text\": \"北京现在天气晴朗，气温25°C。\"}], \"role\": \"model\"}', 'gen_ai.system': 'openai', 'gen_ai.system.version': '0.2.10', 'gen_ai.agent.name': 'veAgent', 'openinference.instrumentation.veadk': '0.2.10', 'gen_ai.app.name': 'veadk_playground_app', 'gen_ai.user.id': 'veadk_playground_user', 'gen_ai.session.id': 'veadk_playground_session', 'agent_name': 'veAgent', 'agent.name': 'veAgent', 'app_name': 'veadk_playground_app', 'app.name': 'veadk_playground_app', 'user.id': 'veadk_playground_user', 'session.id': 'veadk_playground_session', 'cozeloop.report.source': 'veadk', 'cozeloop.call_type': '', 'gen_ai.usage.total_tokens': 2073}, 'parent_span_id': None}]\n"
     ]
    }
   ],
   "source": [
    "import json\n",
    "\n",
    "from veadk import Agent, Runner\n",
    "from veadk.memory.short_term_memory import ShortTermMemory\n",
    "from veadk.tools.demo_tools import get_city_weather\n",
    "from veadk.tracing.telemetry.opentelemetry_tracer import OpentelemetryTracer\n",
    "\n",
    "app_name = \"veadk_playground_app\"\n",
    "user_id = \"veadk_playground_user\"\n",
    "session_id = \"veadk_playground_session\"\n",
    "\n",
    "tracer = OpentelemetryTracer()\n",
    "\n",
    "agent = Agent(\n",
    "    tools=[get_city_weather], tracers=[tracer]\n",
    ")  # 创建一个配置 tracers 的 Agent\n",
    "\n",
    "short_term_memory = ShortTermMemory()\n",
    "\n",
    "runner = Runner(\n",
    "    agent=agent, short_term_memory=short_term_memory, app_name=app_name, user_id=user_id\n",
    ")\n",
    "\n",
    "# 如果在 agent 中设置了tracer，\n",
    "# 并且在 `run` 中指定保存，runner将会尝试保存 tracing 文件\n",
    "await runner.run(\n",
    "    messages=\"北京的天气怎么样？\", session_id=session_id, save_tracing_data=True\n",
    ")\n",
    "\n",
    "print(f\"Tracing file path: {tracer._trace_file_path}\")\n",
    "\n",
    "with open(tracer._trace_file_path, \"r\") as f:\n",
    "    tracing_content = f.read()\n",
    "\n",
    "print(f\"Tracing file content:\\n{json.loads(tracing_content)}\")"
   ]
  },
  {
   "cell_type": "markdown",
   "metadata": {
    "id": "vX5HiB2O2kfr"
   },
   "source": [
    "### 云端观测"
   ]
  },
  {
   "cell_type": "markdown",
   "metadata": {
    "id": "9j9aqke52nCz"
   },
   "source": [
    "需要设置上报器（exporter），VeADK 当前支持将 Tracing 数据上报至[火山引擎 TLS](https://www.volcengine.com/product/tls)、[火山引擎 APMPlus](https://www.volcengine.com/product/apmplus) 以及[火山引擎 Coze Loop](https://www.coze.cn/loop) 平台。它们分别对应不同的上报器。"
   ]
  },
  {
   "cell_type": "markdown",
   "metadata": {
    "id": "azFOHaFe3C5x"
   },
   "source": [
    "初始化上报器之前需要进行环境变量设置："
   ]
  },
  {
   "cell_type": "code",
   "execution_count": null,
   "metadata": {
    "id": "edfntQAt3OCR"
   },
   "outputs": [],
   "source": [
    "import os\n",
    "\n",
    "# TLS 上报器环境变量\n",
    "os.environ[\"OBSERVABILITY_OPENTELEMETRY_TLS_ENDPOINT\"] = (\n",
    "    \"https://tls-cn-beijing.volces.com:4318/v1/traces\"\n",
    ")\n",
    "os.environ[\"OBSERVABILITY_OPENTELEMETRY_TLS_REGION\"] = \"cn-beijing\"\n",
    "os.environ[\"OBSERVABILITY_OPENTELEMETRY_TLS_SERVICE_NAME\"] = \"\"\n",
    "\n",
    "# APMPlus 上报器环境变量\n",
    "os.environ[\"OBSERVABILITY_OPENTELEMETRY_APMPLUS_ENDPOINT\"] = (\n",
    "    \"http://apmplus-cn-beijing.volces.com:4317\"\n",
    ")\n",
    "os.environ[\"OBSERVABILITY_OPENTELEMETRY_APMPLUS_SERVICE_NAME\"] = \"\"\n",
    "os.environ[\"OBSERVABILITY_OPENTELEMETRY_APMPLUS_API_KEY\"] = \"\"\n",
    "\n",
    "# Coze Loop 上报器环境变量\n",
    "os.environ[\"OBSERVABILITY_OPENTELEMETRY_COZELOOP_ENDPOINT\"] = (\n",
    "    \"https://api.coze.cn/v1/loop/opentelemetry/v1/traces\"\n",
    ")\n",
    "os.environ[\"OBSERVABILITY_OPENTELEMETRY_COZELOOP_SERVICE_NAME\"] = \"\"\n",
    "os.environ[\"OBSERVABILITY_OPENTELEMETRY_COZELOOP_API_KEY\"] = \"\""
   ]
  },
  {
   "cell_type": "markdown",
   "metadata": {
    "id": "5nWBgrme3OVm"
   },
   "source": [
    "初始化上报器，并装配到 Agent 中："
   ]
  },
  {
   "cell_type": "code",
   "execution_count": null,
   "metadata": {
    "colab": {
     "base_uri": "https://localhost:8080/"
    },
    "id": "5N9B3j843RtG",
    "outputId": "1ba8e2f3-1c55-4e0d-c2d5-99fbc6cc256e"
   },
   "outputs": [
    {
     "name": "stdout",
     "output_type": "stream",
     "text": [
      "Tracing file path: /tmp/veadk_opentelemetry_tracer_veadk_playground_user_veadk_playground_session_3ae5add47d5c1c041af606c7f95221cf.json\n"
     ]
    }
   ],
   "source": [
    "from veadk import Agent, Runner\n",
    "from veadk.memory.short_term_memory import ShortTermMemory\n",
    "from veadk.tools.demo_tools import get_city_weather\n",
    "from veadk.tracing.telemetry.exporters.apmplus_exporter import APMPlusExporter\n",
    "from veadk.tracing.telemetry.exporters.cozeloop_exporter import CozeloopExporter\n",
    "from veadk.tracing.telemetry.exporters.tls_exporter import TLSExporter\n",
    "from veadk.tracing.telemetry.opentelemetry_tracer import OpentelemetryTracer\n",
    "\n",
    "app_name = \"veadk_playground_app\"\n",
    "user_id = \"veadk_playground_user\"\n",
    "session_id = \"veadk_playground_session\"\n",
    "\n",
    "exporters = [\n",
    "    CozeloopExporter(),\n",
    "    APMPlusExporter(),\n",
    "    TLSExporter(),\n",
    "]  # 初始化 tracing 上报器\n",
    "tracer = OpentelemetryTracer(exporters=exporters)\n",
    "\n",
    "agent = Agent(\n",
    "    tools=[get_city_weather], tracers=[tracer]\n",
    ")  # 创建一个配置 tracers 的 Agent\n",
    "\n",
    "short_term_memory = ShortTermMemory()\n",
    "\n",
    "runner = Runner(\n",
    "    agent=agent, short_term_memory=short_term_memory, app_name=app_name, user_id=user_id\n",
    ")\n",
    "\n",
    "await runner.run(messages=\"北京的天气怎么样？\", session_id=session_id, save_tracing_data=True)\n",
    "\n",
    "print(f\"Tracing file path: {tracer._trace_file_path}\")"
   ]
  },
  {
   "cell_type": "markdown",
   "metadata": {
    "id": "dTCATLtR3SQ8"
   },
   "source": [
    "最后，在云端平台可查看 Tracing 数据：\n",
    "\n",
    "*   Coze Loop 平台：https://www.coze.cn/loop\n",
    "    ![Coze loop 监控图](https://github.com/volcengine/veadk-python/blob/main/assets/images/tutorial-observation-cozeloop.png?raw=true)\n",
    "\n",
    "*   APMPlus 平台：https://www.volcengine.com/product/apmplus\n",
    "    ![APMPlus 监控图](https://github.com/volcengine/veadk-python/blob/main/assets/images/tutorial-observation-apmplus-tracing.png?raw=true)\n",
    "\n",
    "*   TLS 平台：https://www.volcengine.com/product/tls\n",
    "\n",
    "\n"
   ]
  },
  {
   "cell_type": "markdown",
   "metadata": {
    "id": "RxwpPU7jbS5b"
   },
   "source": [
    "## 评测"
   ]
  },
  {
   "cell_type": "markdown",
   "metadata": {
    "id": "IMLeM5Dg3nMd"
   },
   "source": [
    "### 运行时数据转换"
   ]
  },
  {
   "cell_type": "markdown",
   "metadata": {
    "id": "x_YrYHfk3rm6"
   },
   "source": [
    "可以通过 runtime recorder 将运行时的数据直接保存为 Google ADK 兼容的 Evaluation Set 文件（json 格式）："
   ]
  },
  {
   "cell_type": "code",
   "execution_count": null,
   "metadata": {
    "colab": {
     "base_uri": "https://localhost:8080/"
    },
    "id": "8GUxfrmr364F",
    "outputId": "c5340de4-1e4c-4673-f060-85cb4622a7e8"
   },
   "outputs": [
    {
     "name": "stdout",
     "output_type": "stream",
     "text": [
      "Evaluation file path: /tmp/veadk_playground_app/default.evalset.json\n",
      "Evaluation file content\n",
      "{'eval_set_id': 'default', 'name': 'default', 'description': None, 'eval_cases': [{'eval_id': 'veadk_eval_20251021090810', 'conversation': [{'invocation_id': 'e-fc239191-4057-4afd-acf3-56ad6fef9b3a', 'user_content': {'parts': [{'video_metadata': None, 'thought': None, 'inline_data': None, 'file_data': None, 'thought_signature': None, 'code_execution_result': None, 'executable_code': None, 'function_call': None, 'function_response': None, 'text': '北京的天气怎么样？'}], 'role': 'user'}, 'final_response': {'parts': [{'video_metadata': None, 'thought': None, 'inline_data': None, 'file_data': None, 'thought_signature': None, 'code_execution_result': None, 'executable_code': None, 'function_call': None, 'function_response': None, 'text': '北京现在是晴天，气温25°C。'}], 'role': 'model'}, 'intermediate_data': {'tool_uses': [], 'intermediate_responses': []}, 'creation_timestamp': 1761008876.358341}], 'session_input': {'app_name': 'veadk_playground_app', 'user_id': 'veadk_playground_user', 'state': {}}, 'creation_timestamp': 1761008890.319372}, {'eval_id': 'veadk_eval_20251021152602', 'conversation': [{'invocation_id': 'e-5c78b4d8-b8ef-4d6c-b1ee-5b2a808e0c9e', 'user_content': {'parts': [{'video_metadata': None, 'thought': None, 'inline_data': None, 'file_data': None, 'thought_signature': None, 'code_execution_result': None, 'executable_code': None, 'function_call': None, 'function_response': None, 'text': '北京的天气怎么样？'}], 'role': 'user'}, 'final_response': {'parts': [{'video_metadata': None, 'thought': None, 'inline_data': None, 'file_data': None, 'thought_signature': None, 'code_execution_result': None, 'executable_code': None, 'function_call': None, 'function_response': None, 'text': '北京当前天气晴朗，气温25°C。'}], 'role': None}, 'intermediate_data': {'tool_uses': [{'id': 'call_t1qogbzn8x89f93vdqqqacdo', 'args': {'city': 'Beijing'}, 'name': 'get_city_weather'}], 'intermediate_responses': []}, 'creation_timestamp': 1761031550.191407}], 'session_input': {'app_name': 'veadk_playground_app', 'user_id': 'veadk_playground_user', 'state': {}}, 'creation_timestamp': 1761031562.814695}], 'creation_timestamp': 1761008890.318062}\n"
     ]
    }
   ],
   "source": [
    "import json\n",
    "\n",
    "from veadk import Agent, Runner\n",
    "from veadk.memory.short_term_memory import ShortTermMemory\n",
    "from veadk.tools.demo_tools import get_city_weather\n",
    "\n",
    "app_name = \"veadk_playground_app\"\n",
    "user_id = \"veadk_playground_user\"\n",
    "session_id = \"veadk_playground_session\"\n",
    "\n",
    "agent = Agent(tools=[get_city_weather])\n",
    "short_term_memory = ShortTermMemory()\n",
    "\n",
    "runner = Runner(\n",
    "    agent=agent, short_term_memory=short_term_memory, app_name=app_name, user_id=user_id\n",
    ")\n",
    "\n",
    "await runner.run(messages=\"北京的天气怎么样？\", session_id=session_id)\n",
    "\n",
    "# 调用 runner 中的`save_eval_set`来保存评测集文件到本地\n",
    "eval_set_path = await runner.save_eval_set(session_id=session_id)\n",
    "\n",
    "print(f\"Evaluation file path: {eval_set_path}\")\n",
    "\n",
    "with open(eval_set_path, \"r\") as f:\n",
    "    data = json.load(f)\n",
    "print(f\"Evaluation file content\\n{data}\")"
   ]
  },
  {
   "cell_type": "markdown",
   "metadata": {
    "id": "JoEskSzcjV-T"
   },
   "source": [
    "## Prompt 优化"
   ]
  },
  {
   "cell_type": "markdown",
   "metadata": {
    "id": "AlE2IeVtknQK"
   },
   "source": [
    "使用火山引擎 PromptPilot 来进行 Agent 的系统提示词（System Prompt）优化。"
   ]
  },
  {
   "cell_type": "code",
   "execution_count": null,
   "metadata": {
    "id": "9Zi94vc0kshG"
   },
   "outputs": [],
   "source": [
    "# 安装火山引擎提供的依赖\n",
    "%pip install agent-pilot-sdk>=0.1.2"
   ]
  },
  {
   "cell_type": "markdown",
   "metadata": {
    "id": "5IjI4lrHSZcD"
   },
   "source": [
    "您可以从 Prompt Pilot 产品[官方页面](https://promptpilot.volcengine.com/)获取 KEY 和 Workspace ID，在下方设置后访问服务："
   ]
  },
  {
   "cell_type": "code",
   "execution_count": null,
   "metadata": {
    "id": "5yOKQ9KISdYb"
   },
   "outputs": [],
   "source": [
    "import os\n",
    "\n",
    "os.environ[\"PROMPT_PILOT_API_KEY\"] = \"\"\n",
    "os.environ[\"PROMPT_PILOT_WORKSPACE_ID\"] = \"\""
   ]
  },
  {
   "cell_type": "markdown",
   "metadata": {
    "id": "J2xkK82b4MAG"
   },
   "source": [
    "定义一个简单的 Agent，并且让它携带天气查询的工具，体验 Prompt 优化前后的差异。"
   ]
  },
  {
   "cell_type": "code",
   "execution_count": null,
   "metadata": {
    "id": "U1r9txhY4TRz"
   },
   "outputs": [],
   "source": [
    "from veadk import Agent\n",
    "from veadk.tools.demo_tools import get_city_weather\n",
    "\n",
    "agent = Agent(instruction=\"你是一个智能体\", tools=[get_city_weather])"
   ]
  },
  {
   "cell_type": "markdown",
   "metadata": {
    "id": "VG4opU834T5g"
   },
   "source": [
    "使用 Prompt Pilot 进行优化："
   ]
  },
  {
   "cell_type": "code",
   "execution_count": null,
   "metadata": {
    "colab": {
     "base_uri": "https://localhost:8080/"
    },
    "id": "zA-z9b_X4W9m",
    "outputId": "a82d959f-12dd-47fe-f1d0-a2fa76c42f44"
   },
   "outputs": [
    {
     "name": "stdout",
     "output_type": "stream",
     "text": [
      "Optimized prompt for agent veAgent:\n",
      "# Role\n",
      "你是veAgent，是由VeADK团队开发的AI智能体，专长于数据科学、文档处理和软件开发领域。\n",
      "\n",
      "# Task Requirements\n",
      "- **专业解答**：当用户提出与数据科学、文档处理和软件开发相关的问题时，凭借你的专业知识提供准确、详细的解答。\n",
      "- **灵活运用工具**：若用户询问城市天气信息，可调用get_city_weather工具获取对应城市的天气情况，注意输入的城市名称需为英文。\n",
      "- **沟通风格**：语言表达简洁明了，避免使用过于复杂的专业术语，除非用户有相关需求。在与用户交流时，保持友好、耐心的态度。\n",
      "\n",
      "# Output Requirements\n",
      "回答应紧扣用户的问题，提供有针对性的解决方案或信息。若调用工具获取信息，需确保信息准确有效，并清晰地呈现给用户。 \n"
     ]
    }
   ],
   "source": [
    "from veadk.integrations.ve_prompt_pilot.ve_prompt_pilot import VePromptPilot\n",
    "\n",
    "prompt_pilot = VePromptPilot(\n",
    "    api_key=os.getenv(\"PROMPT_PILOT_API_KEY\"),\n",
    "    workspace_id=os.getenv(\"PROMPT_PILOT_WORKSPACE_ID\"),\n",
    ")\n",
    "\n",
    "refined_prompt = prompt_pilot.optimize(agents=[agent])"
   ]
  },
  {
   "cell_type": "markdown",
   "metadata": {
    "id": "3zPzrXMv3ToL"
   },
   "source": [
    "## 云端部署"
   ]
  },
  {
   "cell_type": "markdown",
   "metadata": {
    "id": "WUFS6ZET3fsh"
   },
   "source": [
    "### 部署到火山引擎 FaaS 平台"
   ]
  },
  {
   "cell_type": "markdown",
   "metadata": {
    "id": "vaR4B8ff3j5_"
   },
   "source": [
    "详见[部署上云](https://volcengine.github.io/veadk-python/deploy/from-scratch)。"
   ]
  },
  {
   "cell_type": "markdown",
   "metadata": {
    "id": "M0x2xbyh3uRF"
   },
   "source": [
    "### 端云协同"
   ]
  },
  {
   "cell_type": "markdown",
   "metadata": {
    "id": "IbCOhiuB3zvH"
   },
   "source": [
    "VeADK 提供了在本地直接调用/操作部署在火山引擎 FaaS 平台的 Agent 的便捷接口，方便你与云端 Agent 协作。"
   ]
  },
  {
   "cell_type": "markdown",
   "metadata": {
    "id": "cQat873c4BY7"
   },
   "source": [
    "**以 A2A 方式调用部署的 Agent**"
   ]
  },
  {
   "cell_type": "code",
   "execution_count": null,
   "metadata": {
    "id": "Q2BxyDeL4hsc"
   },
   "outputs": [],
   "source": [
    "# 部署在 VeFaaS 上的应用名称（Application name）及端点（Endpoint）\n",
    "vefaas_application_name = \"\"\n",
    "vefaas_endpoint = \"\""
   ]
  },
  {
   "cell_type": "code",
   "execution_count": null,
   "metadata": {
    "id": "AncPEwMz4HDX"
   },
   "outputs": [
    {
     "name": "stdout",
     "output_type": "stream",
     "text": [
      "返回的消息内容: 您好呀！作为Agent开发者，或许您对如何更高效精准地使用函数获取天气数据感兴趣？要是您想测试关于天气查询的功能，不妨给我一个城市名，我调用`get_city_weather`函数来为您获取相应的天气报告，方便您做进一步研究。 \n"
     ]
    }
   ],
   "source": [
    "from veadk.cloud.cloud_app import CloudApp\n",
    "\n",
    "# 设置会话属性\n",
    "user_id = \"veadk_playground_user\"\n",
    "session_id = \"veadk_playground_session\"\n",
    "\n",
    "cloud_app = CloudApp(vefaas_application_name=vefaas_application_name, vefaas_endpoint=vefaas_endpoint)\n",
    "\n",
    "# 发送消息\n",
    "response_message = await cloud_app.message_send(\n",
    "    message=\"你好，我是一名 Agent 开发者。\", user_id=user_id, session_id=session_id\n",
    ")\n",
    "\n",
    "print(f\"返回的消息内容: {response_message.parts[0].root.text}\")"
   ]
  },
  {
   "cell_type": "markdown",
   "metadata": {
    "id": "7OFbdR2J4HhN"
   },
   "source": [
    "**以 MCP 方式调用部署的Agent**"
   ]
  },
  {
   "cell_type": "markdown",
   "metadata": {
    "id": "ztWHDL71PL2l"
   },
   "source": [
    "使用此方式需安装 `fastmcp` 库："
   ]
  },
  {
   "cell_type": "code",
   "execution_count": null,
   "metadata": {
    "id": "9fOVlphPPMZt"
   },
   "outputs": [],
   "source": [
    "%pip install fastmcp --quiet"
   ]
  },
  {
   "cell_type": "code",
   "execution_count": null,
   "metadata": {
    "id": "QjeJ5l034P7r"
   },
   "outputs": [],
   "source": [
    "# 部署在 VeFaaS 上的应用名称（Application name）及鉴权 Token\n",
    "vefaas_application_name = \"\"\n",
    "vefaas_application_token = \"\""
   ]
  },
  {
   "cell_type": "code",
   "execution_count": null,
   "metadata": {
    "id": "SiszeafO6Iav"
   },
   "outputs": [
    {
     "name": "stdout",
     "output_type": "stream",
     "text": [
      "云部署的 MCP 工具: [Tool(name='run_agent', title=None, description='A reporter for weather updates\\nArgs:\\n    user_input: User\\'s input message (required).\\n    user_id: User identifier. Defaults to \"mcp_user\".\\n    session_id: Session identifier. Defaults to \"mcp_session\".\\nReturns:\\n    Final agent response as a string.\\n\\n\\n**Query Parameters:**\\n\\n- **user_input** (Required): No description.\\n\\n- **user_id**: No description.\\n\\n- **session_id**: No description.\\n\\n\\n**Responses:**\\n\\n- **200** (Success): Successful Response\\n  - Content-Type: `application/json`\\n\\n  - **Example:**\\n```json\\n\"string\"\\n```\\n\\n- **422**: Validation Error\\n  - Content-Type: `application/json`\\n\\n  - **Response Properties:**\\n\\n  - **Example:**\\n```json\\n{\\n  \"detail\": [\\n    \"unknown_type\"\\n  ]\\n}\\n```', inputSchema={'type': 'object', 'properties': {'user_input': {'type': 'string', 'title': 'User Input'}, 'user_id': {'type': 'string', 'title': 'User Id', 'default': 'mcp_user'}, 'session_id': {'type': 'string', 'title': 'Session Id', 'default': 'mcp_session'}}, 'required': ['user_input']}, outputSchema={'type': 'object', 'properties': {'result': {'type': 'string', 'title': 'Response Run Agent'}}, 'required': ['result'], 'x-fastmcp-wrap-result': True}, annotations=None, meta={'_fastmcp': {'tags': ['mcp']}}), Tool(name='agent_card', title=None, description='Agent Card\\n\\n\\n**Responses:**\\n\\n- **200** (Success): Successful Response\\n  - Content-Type: `application/json`\\n\\n  - **Example:**\\n```json\\n{\\n  \"key\": \"value\"\\n}\\n```', inputSchema={'type': 'object', 'properties': {}, 'required': []}, outputSchema={'additionalProperties': True, 'type': 'object', 'title': 'Response Agent Card'}, annotations=None, meta={'_fastmcp': {'tags': ['mcp']}}), Tool(name='get_cozeloop_space_id', title=None, description='Get Cozeloop Space Id\\n\\n\\n**Responses:**\\n\\n- **200** (Success): Successful Response\\n  - Content-Type: `application/json`\\n\\n  - **Example:**\\n```json\\n{\\n  \"key\": \"value\"\\n}\\n```', inputSchema={'type': 'object', 'properties': {}, 'required': []}, outputSchema={'additionalProperties': True, 'type': 'object', 'title': 'Response Get Cozeloop Space Id'}, annotations=None, meta={'_fastmcp': {'tags': ['mcp']}})]\n",
      "返回的消息内容: CallToolResult(content=[TextContent(type='text', text='{\"result\":\"您好呀！作为Agent开发者，想必您对于功能集成与调用有独到见解。若您想了解天气相关功能在实际应用中的开发要点，比如怎样更好结合`get_city_weather`函数优化您的项目，都能和我说说，咱们一起探讨。要是您想测试天气查询功能，告诉我城市名称，我就调用函数给出天气信息。 \"}', annotations=None, meta=None)], structured_content={'result': '您好呀！作为Agent开发者，想必您对于功能集成与调用有独到见解。若您想了解天气相关功能在实际应用中的开发要点，比如怎样更好结合`get_city_weather`函数优化您的项目，都能和我说说，咱们一起探讨。要是您想测试天气查询功能，告诉我城市名称，我就调用函数给出天气信息。 '}, data='您好呀！作为Agent开发者，想必您对于功能集成与调用有独到见解。若您想了解天气相关功能在实际应用中的开发要点，比如怎样更好结合`get_city_weather`函数优化您的项目，都能和我说说，咱们一起探讨。要是您想测试天气查询功能，告诉我城市名称，我就调用函数给出天气信息。 ', is_error=False)\n"
     ]
    }
   ],
   "source": [
    "from veadk.cloud.cloud_app import CloudApp\n",
    "from fastmcp.client import Client\n",
    "\n",
    "# 设置会话属性\n",
    "user_id = \"veadk_playground_user\"\n",
    "session_id = \"veadk_playground_session\"\n",
    "\n",
    "cloud_app = CloudApp(vefaas_application_name=vefaas_application_name)\n",
    "\n",
    "endpoint = cloud_app._get_vefaas_endpoint()\n",
    "\n",
    "client = Client(f\"{endpoint}/mcp?token={vefaas_application_token}\")\n",
    "\n",
    "async with client:\n",
    "    # 列出所有工具\n",
    "    tools = await client.list_tools()\n",
    "    print(f\"云部署的 MCP 工具: {tools}\")\n",
    "\n",
    "    # 通过 MCP 的方式调用云端 Agent\n",
    "    res = await client.call_tool(\n",
    "        \"run_agent\",\n",
    "        {\n",
    "            \"user_input\": \"你好，我是一名 Agent 开发者。\",\n",
    "            \"session_id\": session_id,\n",
    "            \"user_id\": user_id,\n",
    "        },\n",
    "    )\n",
    "    print(f\"返回的消息内容: {res}\")"
   ]
  }
 ],
 "metadata": {
  "colab": {
   "provenance": [],
   "toc_visible": true
  },
  "kernelspec": {
   "display_name": "veadk-python",
   "language": "python",
   "name": "python3"
  },
  "language_info": {
   "codemirror_mode": {
    "name": "ipython",
    "version": 3
   },
   "file_extension": ".py",
   "mimetype": "text/x-python",
   "name": "python",
   "nbconvert_exporter": "python",
   "pygments_lexer": "ipython3",
   "version": "3.10.18"
  }
 },
 "nbformat": 4,
 "nbformat_minor": 0
}
